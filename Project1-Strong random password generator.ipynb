{
 "cells": [
  {
   "cell_type": "markdown",
   "metadata": {},
   "source": [
    "# 1st way\n",
    "The generator will give you one random password of 12 characters, including at least a capital letter, a lower letter and a digit."
   ]
  },
  {
   "cell_type": "code",
   "execution_count": 273,
   "metadata": {},
   "outputs": [
    {
     "name": "stdout",
     "output_type": "stream",
     "text": [
      "Here is your random password: ,y3;lY-;S0N)\n"
     ]
    }
   ],
   "source": [
    "import random\n",
    "import string\n",
    "\n",
    "def randomStringDigits(stringLength=12):\n",
    "    \n",
    "    \"\"\"Generate a random string of letters and digits \"\"\"\n",
    "    lettersAndDigits = string.ascii_letters + string.digits + string.punctuation\n",
    "    return ''.join(random.choice(lettersAndDigits) for i in range(stringLength))\n",
    "\n",
    "\n",
    "print (\"Here is your random password:\",randomStringDigits(12))\n"
   ]
  },
  {
   "cell_type": "markdown",
   "metadata": {},
   "source": [
    "# 2nd way\n",
    "Here we'll ask 3 times for a password with special requirements and if it's still not ok, we'll give a random password.\n"
   ]
  },
  {
   "cell_type": "code",
   "execution_count": 274,
   "metadata": {},
   "outputs": [
    {
     "name": "stdout",
     "output_type": "stream",
     "text": [
      "Please type in your password:\n",
      "It should have minimum of 12 characters, including at least 1 lower case letter, 1 upper case letter, 1 digit and 1 special character\n",
      "\n",
      "Please type in your password:\n",
      "It should have minimum of 12 characters, including at least 1 lower case letter, 1 upper case letter, 1 digit and 1 special character\n",
      "\n",
      "Please type in your password:\n",
      "It should have minimum of 12 characters, including at least 1 lower case letter, 1 upper case letter, 1 digit and 1 special character\n",
      "\n",
      "Use this one: \n",
      "~}-Wf!:N$-b4\n",
      "Please type it again and don't fortget it: \n",
      "\n"
     ]
    }
   ],
   "source": [
    "import re\n",
    "num_trials = 0\n",
    "while(num_trials < 3):\n",
    "   a = input(\"Please type in your password:\\nIt should have minimum of 12 characters, including at least 1 lower case letter, 1 upper case letter, 1 digit and 1 special character\\n\")\n",
    "   if (re.search('[a-z][A-Z][0-9][!@#$&~\\[\\:/-_<>*]*', a)):\n",
    "       break\n",
    "   num_trials += 1\n",
    "   if num_trials == 3:\n",
    "        print(\"Use this one: \")\n",
    "        def randomStringDigits(stringLength=12):\n",
    "            lettersAndDigits = string.ascii_letters + string.digits + string.punctuation\n",
    "            return ''.join(random.choice(lettersAndDigits) for i in range(stringLength))\n",
    "        print(randomStringDigits())\n",
    "        b = input(\"Please type it again and don't fortget it: \\n\")\n",
    "\n"
   ]
  },
  {
   "cell_type": "markdown",
   "metadata": {},
   "source": [
    "# 3rd way\n",
    "Define a checking function to be sure that the passwords complete all the requirements, if not we give a suggested password."
   ]
  },
  {
   "cell_type": "code",
   "execution_count": 275,
   "metadata": {},
   "outputs": [],
   "source": [
    "def randomStringDigits(stringLength=12):\n",
    "    \n",
    "    \"\"\"Generate a random string of letters and digits \"\"\"\n",
    "    lettersAndDigits = string.ascii_letters + string.digits + string.punctuation\n",
    "    return ''.join(random.choice(lettersAndDigits) for i in range(stringLength))"
   ]
  },
  {
   "cell_type": "code",
   "execution_count": 276,
   "metadata": {},
   "outputs": [],
   "source": [
    "def check(a):\n",
    "    import random\n",
    "    import string\n",
    "\n",
    "    check_capital = (any(c.isupper() for c in a))\n",
    "    check_lower = (any(c.islower() for c in a))\n",
    "    check_digit = (any(c.isdigit() for c in a))\n",
    "    \n",
    "    if check_capital and  check_lower and check_digit:\n",
    "        return(\"Thank you for your subscription\")\n",
    "    else:\n",
    "        return(print(\"Sorry it didn't work, here is a suggested password for you:\",randomStringDigits()))"
   ]
  },
  {
   "cell_type": "code",
   "execution_count": 277,
   "metadata": {},
   "outputs": [
    {
     "name": "stdout",
     "output_type": "stream",
     "text": [
      "Please create your password with min 12 carcaters including 1 capital letter, 1 number and 1 special caracter: \n"
     ]
    }
   ],
   "source": [
    "a = input(\"Please create your password with min 12 carcaters including 1 capital letter, 1 number and 1 special caracter: \")"
   ]
  },
  {
   "cell_type": "code",
   "execution_count": 278,
   "metadata": {},
   "outputs": [
    {
     "name": "stdout",
     "output_type": "stream",
     "text": [
      "Sorry it didn't work, here is a suggested password for you: )oUPV7O<5~!~\n"
     ]
    }
   ],
   "source": [
    "check(a)"
   ]
  }
 ],
 "metadata": {
  "kernelspec": {
   "display_name": "Python 3",
   "language": "python",
   "name": "python3"
  },
  "language_info": {
   "codemirror_mode": {
    "name": "ipython",
    "version": 3
   },
   "file_extension": ".py",
   "mimetype": "text/x-python",
   "name": "python",
   "nbconvert_exporter": "python",
   "pygments_lexer": "ipython3",
   "version": "3.7.3"
  }
 },
 "nbformat": 4,
 "nbformat_minor": 2
}
